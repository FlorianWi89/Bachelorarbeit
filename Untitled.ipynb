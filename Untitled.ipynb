{
 "cells": [
  {
   "cell_type": "code",
   "execution_count": 1,
   "id": "7a356e23",
   "metadata": {},
   "outputs": [],
   "source": [
    "import json\n",
    "\n",
    "architecture = 'Results/Architecture_results.json'\n",
    "bs = 'Results/BatchSize_results.json'\n",
    "lr = 'Results/LR_results.json'"
   ]
  },
  {
   "cell_type": "code",
   "execution_count": 7,
   "id": "f15b96d8",
   "metadata": {},
   "outputs": [
    {
     "data": {
      "text/plain": [
       "[<matplotlib.lines.Line2D at 0x1366728e0>]"
      ]
     },
     "execution_count": 7,
     "metadata": {},
     "output_type": "execute_result"
    },
    {
     "data": {
      "image/png": "[encoded data removed]",
      "text/plain": [
       "<Figure size 432x288 with 1 Axes>"
      ]
     },
     "metadata": {
      "needs_background": "light"
     },
     "output_type": "display_data"
    }
   ],
   "source": [
    "import matplotlib.pyplot as plt\n",
    "import numpy as np\n",
    "\n",
    "x = np.arange(0,10,0.5)\n",
    "y = np.sin(x)\n",
    "z = np.cos(x)\n",
    "\n",
    "plt.plot(x,y, marker='.')\n",
    "plt.plot(x,z, marker='.')"
   ]
  },
  {
   "cell_type": "code",
   "execution_count": null,
   "id": "bedab41d",
   "metadata": {},
   "outputs": [],
   "source": []
  },
  {
   "cell_type": "code",
   "execution_count": null,
   "id": "ee3f6cdc",
   "metadata": {},
   "outputs": [],
   "source": []
  },
  {
   "cell_type": "code",
   "execution_count": 2,
   "id": "48d5efd0",
   "metadata": {},
   "outputs": [],
   "source": [
    "# JSON file\n",
    "file = open (architecture, \"r\")\n",
    " \n",
    "# Reading from file\n",
    "data = json.loads(file.read())"
   ]
  },
  {
   "cell_type": "code",
   "execution_count": 4,
   "id": "6d061e40",
   "metadata": {},
   "outputs": [
    {
     "ename": "NameError",
     "evalue": "name 'plt' is not defined",
     "output_type": "error",
     "traceback": [
      "\u001b[0;31m---------------------------------------------------------------------------\u001b[0m",
      "\u001b[0;31mNameError\u001b[0m                                 Traceback (most recent call last)",
      "Input \u001b[0;32mIn [4]\u001b[0m, in \u001b[0;36m<cell line: 1>\u001b[0;34m()\u001b[0m\n\u001b[1;32m      1\u001b[0m \u001b[38;5;28;01mfor\u001b[39;00m goal \u001b[38;5;129;01min\u001b[39;00m [\u001b[38;5;124m'\u001b[39m\u001b[38;5;124mTrain\u001b[39m\u001b[38;5;124m'\u001b[39m, \u001b[38;5;124m'\u001b[39m\u001b[38;5;124mVal\u001b[39m\u001b[38;5;124m'\u001b[39m]:\n\u001b[1;32m      2\u001b[0m             \u001b[38;5;66;03m# Plot für RNN\u001b[39;00m\n\u001b[0;32m----> 3\u001b[0m             \u001b[43mplt\u001b[49m\u001b[38;5;241m.\u001b[39mfigure(figsize\u001b[38;5;241m=\u001b[39m(\u001b[38;5;241m15\u001b[39m, \u001b[38;5;241m3\u001b[39m))\n\u001b[1;32m      4\u001b[0m             plt\u001b[38;5;241m.\u001b[39mplot(x_plot_data, data[\u001b[38;5;124m'\u001b[39m\u001b[38;5;124mRNN\u001b[39m\u001b[38;5;124m'\u001b[39m][\u001b[38;5;124mf\u001b[39m\u001b[38;5;124m'\u001b[39m\u001b[38;5;132;01m{\u001b[39;00mgoal\u001b[38;5;132;01m}\u001b[39;00m\u001b[38;5;124m_Loss(MAE)\u001b[39m\u001b[38;5;124m'\u001b[39m][\u001b[38;5;241m0\u001b[39m], label\u001b[38;5;241m=\u001b[39m\u001b[38;5;124m'\u001b[39m\u001b[38;5;124m1 Layer\u001b[39m\u001b[38;5;124m'\u001b[39m)\n\u001b[1;32m      5\u001b[0m             plt\u001b[38;5;241m.\u001b[39mplot(x_plot_data, data[\u001b[38;5;124m'\u001b[39m\u001b[38;5;124mRNN\u001b[39m\u001b[38;5;124m'\u001b[39m][\u001b[38;5;124mf\u001b[39m\u001b[38;5;124m'\u001b[39m\u001b[38;5;132;01m{\u001b[39;00mgoal\u001b[38;5;132;01m}\u001b[39;00m\u001b[38;5;124m_Loss(MAE)\u001b[39m\u001b[38;5;124m'\u001b[39m][\u001b[38;5;241m1\u001b[39m], label\u001b[38;5;241m=\u001b[39m\u001b[38;5;124m'\u001b[39m\u001b[38;5;124m2 Layers\u001b[39m\u001b[38;5;124m'\u001b[39m)\n",
      "\u001b[0;31mNameError\u001b[0m: name 'plt' is not defined"
     ]
    }
   ],
   "source": [
    "for goal in ['Train', 'Val']:\n",
    "            # Plot für RNN\n",
    "            plt.figure(figsize=(15, 3))\n",
    "            plt.plot(x_plot_data, data['RNN'][f'{goal}_Loss(MAE)'][0], label='1 Layer')\n",
    "            plt.plot(x_plot_data, data['RNN'][f'{goal}_Loss(MAE)'][1], label='2 Layers')\n",
    "            plt.plot(x_plot_data, data['RNN'][f'{goal}_Loss(MAE)'][2], label='3 Layers')\n",
    "            plt.grid(True)\n",
    "            plt.xlabel('Epoch')\n",
    "            plt.ylabel('MAE Loss')\n",
    "            plt.legend(loc='upper right')\n",
    "            #plt.savefig(os.path.join(RNN_path, f'RNN_{goal}_Layers_Loss.png'), bbox_inches=\"tight\")\n",
    "            plt.show()\n",
    "\n",
    "            # Plot für GRU\n",
    "            plt.figure(figsize=(15, 3))\n",
    "            plt.plot(x_plot_data, data['GRU'][f'{goal}_Loss(MAE)'][0], label='1 Layer')\n",
    "            plt.plot(x_plot_data, data['GRU'][f'{goal}_Loss(MAE)'][1], label='2 Layers')\n",
    "            plt.plot(x_plot_data, data['GRU'][f'{goal}_Loss(MAE)'][2], label='3 Layers')\n",
    "            plt.grid(True)\n",
    "            plt.xlabel('Epoch')\n",
    "            plt.ylabel('MAE Loss')\n",
    "            plt.legend(loc='upper right')\n",
    "            #plt.savefig(os.path.join(GRU_path, f'GRU_{goal}_Layers_Loss.png'), bbox_inches=\"tight\")\n",
    "            plt.show()\n",
    "\n",
    "            # Plot für LSTM\n",
    "            plt.figure(figsize=(15, 3))\n",
    "            plt.plot(x_plot_data, data['LSTM'][f'{goal}_Loss(MAE)'][0], label='1 Layer')\n",
    "            plt.plot(x_plot_data, data['LSTM'][f'{goal}_Loss(MAE)'][1], label='2 Layers')\n",
    "            plt.plot(x_plot_data, data['LSTM'][f'{goal}_Loss(MAE)'][2], label='3 Layers')\n",
    "            plt.grid(True)\n",
    "            plt.xlabel('Epoch')\n",
    "            plt.ylabel('MAE Loss')\n",
    "            plt.legend(loc='upper right')\n",
    "            #plt.savefig(os.path.join(LSTM_path, f'LSTM_{goal}_Layers_Loss.png'), bbox_inches=\"tight\")\n",
    "            plt.show()"
   ]
  },
  {
   "cell_type": "code",
   "execution_count": null,
   "id": "9fab82dc",
   "metadata": {},
   "outputs": [],
   "source": []
  }
 ],
 "metadata": {
  "kernelspec": {
   "display_name": "Python 3 (ipykernel)",
   "language": "python",
   "name": "python3"
  },
  "language_info": {
   "codemirror_mode": {
    "name": "ipython",
    "version": 3
   },
   "file_extension": ".py",
   "mimetype": "text/x-python",
   "name": "python",
   "nbconvert_exporter": "python",
   "pygments_lexer": "ipython3",
   "version": "3.9.10"
  }
 },
 "nbformat": 4,
 "nbformat_minor": 5
}
