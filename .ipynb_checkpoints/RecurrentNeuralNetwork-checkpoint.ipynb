{
 "cells": [
  {
   "cell_type": "code",
   "execution_count": 24,
   "id": "25f615c5",
   "metadata": {},
   "outputs": [],
   "source": [
    "from tensorflow.keras.models import Sequential\n",
    "from tensorflow.keras.layers import LSTM, GRU, Dropout, Dense\n",
    "import numpy as np"
   ]
  },
  {
   "cell_type": "code",
   "execution_count": 77,
   "id": "50652198",
   "metadata": {},
   "outputs": [],
   "source": [
    "class RecurrentNeuralNetwork():\n",
    "\n",
    "    def __init__(self, network_type = 'LSTM', units = 31):\n",
    "        self.model = Sequential()\n",
    "        self.units = units\n",
    "        self.network_type = network_type\n",
    "        \n",
    "        self.model_build_and_compile()\n",
    "    \n",
    "    def model_build_and_compile(self):\n",
    "\n",
    "        if self.network_type == 'LSTM':\n",
    "            self.model.add(LSTM(self.units, return_sequences=True))\n",
    "            self.model.add(Dropout(0.2))\n",
    "            self.model.add(LSTM(self.units, return_sequences=False))\n",
    "            self.model.add(Dropout(0.2))\n",
    "            self.model.add(Dense(31))\n",
    "            self.model.add(Dense(1))\n",
    "            \n",
    "        if self.network_type == 'GRU':\n",
    "            self.model.add(GRU(self.units, return_sequences=True))\n",
    "            self.model.add(Dropout(0.2))\n",
    "            self.model.add(GRU(self.units, return_sequences=False))\n",
    "            self.model.add(Dropout(0.2))\n",
    "            self.model.add(Dense(31))\n",
    "            self.model.add(Dense(1))\n",
    "            \n",
    "        self.model.compile(loss = 'mean_absolute_error',\n",
    "                   optimizer = 'adam', \n",
    "                   metrics=['mean_absolute_error'])\n",
    "    \n",
    "    def fit(self, X, y, epochs=10, batch_size=8):\n",
    "        if X.ndim != 3:\n",
    "            X = np.array(X).reshape(X.shape[0], X.shape[1], 1)\n",
    "        \n",
    "        self.history = self.model.fit(X, y, validation_split=0.25, epochs=epochs, batch_size=batch_size)\n",
    "    \n",
    "    def predict(self, X):\n",
    "        return self.model.predict(X).flatten()\n",
    "    \n",
    "    def plot_metrics(self):\n",
    "        pass"
   ]
  },
  {
   "cell_type": "code",
   "execution_count": null,
   "id": "3349c0c9",
   "metadata": {},
   "outputs": [],
   "source": []
  },
  {
   "cell_type": "code",
   "execution_count": 82,
   "id": "8f96da66",
   "metadata": {},
   "outputs": [],
   "source": [
    "X = np.arange(93000).reshape((3000,31,1)).astype(float)\n",
    "y = np.arange(3000).reshape((3000,1)).astype(float)"
   ]
  },
  {
   "cell_type": "code",
   "execution_count": 83,
   "id": "3e27beb5",
   "metadata": {},
   "outputs": [
    {
     "name": "stdout",
     "output_type": "stream",
     "text": [
      "Epoch 1/5\n"
     ]
    },
    {
     "name": "stderr",
     "output_type": "stream",
     "text": [
      "2023-09-16 15:26:33.879684: I tensorflow/core/grappler/optimizers/custom_graph_optimizer_registry.cc:113] Plugin optimizer for device_type GPU is enabled.\n",
      "2023-09-16 15:26:34.033326: I tensorflow/core/grappler/optimizers/custom_graph_optimizer_registry.cc:113] Plugin optimizer for device_type GPU is enabled.\n",
      "2023-09-16 15:26:34.096970: I tensorflow/core/grappler/optimizers/custom_graph_optimizer_registry.cc:113] Plugin optimizer for device_type GPU is enabled.\n",
      "2023-09-16 15:26:34.201817: I tensorflow/core/grappler/optimizers/custom_graph_optimizer_registry.cc:113] Plugin optimizer for device_type GPU is enabled.\n"
     ]
    },
    {
     "name": "stdout",
     "output_type": "stream",
     "text": [
      "  3/282 [..............................] - ETA: 7s - loss: 1337.6841 - mean_absolute_error: 1337.6841  "
     ]
    },
    {
     "name": "stderr",
     "output_type": "stream",
     "text": [
      "2023-09-16 15:26:34.312102: I tensorflow/core/grappler/optimizers/custom_graph_optimizer_registry.cc:113] Plugin optimizer for device_type GPU is enabled.\n"
     ]
    },
    {
     "name": "stdout",
     "output_type": "stream",
     "text": [
      "282/282 [==============================] - ETA: 0s - loss: 1038.6523 - mean_absolute_error: 1038.6523"
     ]
    },
    {
     "name": "stderr",
     "output_type": "stream",
     "text": [
      "2023-09-16 15:26:40.788683: I tensorflow/core/grappler/optimizers/custom_graph_optimizer_registry.cc:113] Plugin optimizer for device_type GPU is enabled.\n",
      "2023-09-16 15:26:40.847358: I tensorflow/core/grappler/optimizers/custom_graph_optimizer_registry.cc:113] Plugin optimizer for device_type GPU is enabled.\n",
      "2023-09-16 15:26:40.898900: I tensorflow/core/grappler/optimizers/custom_graph_optimizer_registry.cc:113] Plugin optimizer for device_type GPU is enabled.\n"
     ]
    },
    {
     "name": "stdout",
     "output_type": "stream",
     "text": [
      "282/282 [==============================] - 10s 27ms/step - loss: 1038.6523 - mean_absolute_error: 1038.6523 - val_loss: 2388.2019 - val_mean_absolute_error: 2388.2019\n",
      "Epoch 2/5\n",
      "282/282 [==============================] - 7s 25ms/step - loss: 767.6854 - mean_absolute_error: 767.6854 - val_loss: 1956.4691 - val_mean_absolute_error: 1956.4691\n",
      "Epoch 3/5\n",
      "282/282 [==============================] - 7s 24ms/step - loss: 601.1577 - mean_absolute_error: 601.1577 - val_loss: 1654.3453 - val_mean_absolute_error: 1654.3453\n",
      "Epoch 4/5\n",
      "282/282 [==============================] - 7s 25ms/step - loss: 571.2440 - mean_absolute_error: 571.2440 - val_loss: 1571.4681 - val_mean_absolute_error: 1571.4681\n",
      "Epoch 5/5\n",
      "282/282 [==============================] - 7s 24ms/step - loss: 564.3622 - mean_absolute_error: 564.3622 - val_loss: 1543.4708 - val_mean_absolute_error: 1543.4708\n"
     ]
    }
   ],
   "source": [
    "model = RecurrentNeuralNetwork().fit(X,y, epochs=5, batch_size=8)"
   ]
  },
  {
   "cell_type": "code",
   "execution_count": null,
   "id": "d9765cbe",
   "metadata": {},
   "outputs": [],
   "source": []
  },
  {
   "cell_type": "code",
   "execution_count": null,
   "id": "90b22f30",
   "metadata": {},
   "outputs": [],
   "source": []
  }
 ],
 "metadata": {
  "kernelspec": {
   "display_name": "Python 3 (ipykernel)",
   "language": "python",
   "name": "python3"
  },
  "language_info": {
   "codemirror_mode": {
    "name": "ipython",
    "version": 3
   },
   "file_extension": ".py",
   "mimetype": "text/x-python",
   "name": "python",
   "nbconvert_exporter": "python",
   "pygments_lexer": "ipython3",
   "version": "3.10.4"
  }
 },
 "nbformat": 4,
 "nbformat_minor": 5
}
