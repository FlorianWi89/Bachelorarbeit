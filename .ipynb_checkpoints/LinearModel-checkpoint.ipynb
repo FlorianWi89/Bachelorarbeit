{
 "cells": [
  {
   "cell_type": "code",
   "execution_count": 2,
   "id": "973c580d",
   "metadata": {},
   "outputs": [],
   "source": [
    "from sklearn import linear_model"
   ]
  },
  {
   "cell_type": "code",
   "execution_count": null,
   "id": "c3c12d06",
   "metadata": {},
   "outputs": [],
   "source": [
    "class LinearModel():\n",
    "    def __init__(self, model_type = 'LinearRegression'):\n",
    "        self.model = self.build_model()\n",
    "        \n",
    "    def build_model(self):\n",
    "        if model_type == 'LinearRegression':\n",
    "            self.model = linear_model.LinearRegression()\n",
    "        elif model_type == 'Ridge':\n",
    "            self.model = linear_model.Ridge()\n",
    "        elif model_type == 'Lasso':\n",
    "            self.model == linear_model.Lasso()\n",
    "        elif model_type == 'ElasticNet':\n",
    "            self.model = linear_model.ElasticNet()\n",
    "        \n",
    "    def fit(self, X, y):\n",
    "        self.model.fit(X,y)\n",
    "        \n",
    "    def predict(self, X):\n",
    "        return self.model.predict(X)\n",
    "    \n",
    "    def get_score(self. X_test, y_test)\n",
    "        return self.model.score(X_test, y_test)"
   ]
  }
 ],
 "metadata": {
  "kernelspec": {
   "display_name": "Python 3 (ipykernel)",
   "language": "python",
   "name": "python3"
  },
  "language_info": {
   "codemirror_mode": {
    "name": "ipython",
    "version": 3
   },
   "file_extension": ".py",
   "mimetype": "text/x-python",
   "name": "python",
   "nbconvert_exporter": "python",
   "pygments_lexer": "ipython3",
   "version": "3.10.4"
  }
 },
 "nbformat": 4,
 "nbformat_minor": 5
}
