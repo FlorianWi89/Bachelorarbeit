{
 "cells": [
  {
   "cell_type": "code",
   "execution_count": 1,
   "id": "0cb86b8c",
   "metadata": {},
   "outputs": [],
   "source": [
    "import numpy as np\n",
    "import pandas as pd\n",
    "import os"
   ]
  },
  {
   "cell_type": "code",
   "execution_count": 2,
   "id": "e24877ff",
   "metadata": {},
   "outputs": [],
   "source": [
    "#class to load and stack the training data\n",
    "\n",
    "class DataLoader():\n",
    "    def __init__(self, path_to_data):\n",
    "        self.data_path = path_to_data\n",
    "        self.file_name = \"Measurements.xlsx\"\n",
    "        \n",
    "    def load_data(self):\n",
    "        \n",
    "        #function to load all szenario measurements into one huge Dataframe for training\n",
    "        szenarios = list(map(lambda z: int(z.replace(\"scenario\", \"\")), filter(lambda z: z.startswith(\"scenario\"), os.listdir(self.data_path))))\n",
    "        \n",
    "        data = pd.DataFrame()\n",
    "        \n",
    "        #get all files and stack them \n",
    "        for s_id in szenarios:\n",
    "            \n",
    "            pressures = pd.read_excel(os.path.join(self.data_path, f\"scenario{s_id}\", self.file_name), sheet_name=\"Pressures (m)\", engine='openpyxl')\n",
    "            pressures = pressures.drop(\"Timestamp\", axis = 1)\n",
    "            \n",
    "            flows = pd.read_excel(os.path.join(self.data_path, f\"scenario{s_id}\", self.file_name), sheet_name=\"Flows (m3_h)\", engine='openpyxl')\n",
    "            flows = flows.drop(\"Timestamp\", axis = 1)\n",
    "            \n",
    "            #vertical stack\n",
    "            current_data = pd.concat([pressures,flows],axis=1)\n",
    "            \n",
    "            #horizontal stack\n",
    "            data = pd.concat([data, current_data])\n",
    "            \n",
    "        return data\n",
    "    \n",
    "    def load_and_save(self):\n",
    "        data = self.load_data()\n",
    "        \n",
    "        data = data.reset_index(drop=True)\n",
    "        \n",
    "        data.to_parquet('train_data.parquet.gzip',compression='gzip') \n",
    "        "
   ]
  },
  {
   "cell_type": "code",
   "execution_count": 3,
   "id": "2eaba60c",
   "metadata": {},
   "outputs": [],
   "source": [
    "path = '/Users/florianwicher/Desktop/data/SensorFaultScenarios/'\n",
    "DL = DataLoader('/Users/florianwicher/Desktop/data/SensorFaultScenarios/')"
   ]
  },
  {
   "cell_type": "code",
   "execution_count": 4,
   "id": "f3a476b5",
   "metadata": {},
   "outputs": [
    {
     "name": "stdout",
     "output_type": "stream",
     "text": [
      "0\n",
      "50\n",
      "100\n",
      "150\n",
      "200\n",
      "250\n",
      "300\n",
      "350\n",
      "400\n"
     ]
    }
   ],
   "source": [
    "#DL.load_and_save()\n"
   ]
  }
 ],
 "metadata": {
  "kernelspec": {
   "display_name": "Python 3 (ipykernel)",
   "language": "python",
   "name": "python3"
  },
  "language_info": {
   "codemirror_mode": {
    "name": "ipython",
    "version": 3
   },
   "file_extension": ".py",
   "mimetype": "text/x-python",
   "name": "python",
   "nbconvert_exporter": "python",
   "pygments_lexer": "ipython3",
   "version": "3.10.4"
  }
 },
 "nbformat": 4,
 "nbformat_minor": 5
}
