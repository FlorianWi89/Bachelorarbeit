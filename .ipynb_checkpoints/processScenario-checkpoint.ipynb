{
 "cells": [
  {
   "cell_type": "code",
   "execution_count": 1,
   "id": "62408939",
   "metadata": {},
   "outputs": [],
   "source": [
    "import os\n",
    "import sys\n",
    "import random\n",
    "import numpy as np\n",
    "import pandas as pd\n",
    "import pickle\n",
    "os.environ['TF_CPP_MIN_LOG_LEVEL'] = '2'\n",
    "from joblib import Parallel, delayed\n",
    "from FaultySensorScenario import FaultySensorScenario, enumerate_all_faulty_scenarios\n",
    "from utils import evaluate_fault_detection\n",
    "from FaultDetector import EnsembleSystem\n",
    "from RecurrentNeuralNetwork import RecurrentNeuralNetwork"
   ]
  },
  {
   "cell_type": "code",
   "execution_count": null,
   "id": "0d5d30c7",
   "metadata": {},
   "outputs": [],
   "source": [
    "def process_scenario(scenario_id, path_to_sensor_fault_data, exp_results_out_path):\n",
    "    \n",
    "    fault_type = \"sensor_fault\"\n",
    "    \n",
    "    # Load data\n",
    "    scenario = FaultySensorScenario(path_to_sensor_fault_data, scenario_id)\n",
    "    \n",
    "    X, fault_labels, pressure_nodes, flow_nodes = scenario.X, scenario.Y, pressure_nodes, flow_nodes\n",
    "\n",
    "    t_train_split = 5000    \n",
    "    \n",
    "    X_train, X_test = X[:train_test_size, :], X[train_test_size:, :]\n",
    "    fault_labels_train, fault_labels_test = fault_labels[:train_test_size], fault_labels[train_test_size:]\n",
    "\n",
    "    # Fit model\n",
    "   \n",
    "    ensemble_system = EnsembleSystem(RecurrentNeuralNetwork, flow_nodes, pressure_nodes)\n",
    "    \n",
    "    ensemble_system.fit(X_train)\n",
    "\n",
    "    # Anomaly detection\n",
    "    suspicious_time_points, sensor_errors = ensemble_system.apply_detector(X_test)\n",
    "    \n",
    "    # Evaluation of anomaly detection\n",
    "    faults_time = np.where(fault_labels_test == 1)[0]\n",
    "    fault_detection_results = evaluate_fault_detection(suspicious_time_points, faults_time)\n",
    "\n",
    "    np.savez(os.path.join(exp_results_out_path, f\"{scenario_id}_{fault_type}\"), faults_time=faults_time, suspicious_time_points=suspicious_time_points, fault_labels_test=fault_labels_test, X_train=X_train, flow_nodes=flow_nodes, pressure_nodes=pressure_nodes)\n",
    "\n",
    "    # Remove all false alarms\n",
    "    suspicious_time_points = list(filter(lambda t: t in faults_time, suspicious_time_points))\n",
    "\n",
    "    \n",
    "    \n",
    "if __name__ == \"__main__\":\n",
    "    \n",
    "    path_to_sensor_fault_data = '/Users/florianwicher/Desktop/data/SensorFaultScenarios/'\n",
    "    exp_results_out_path = '/Users/florianwicher/Desktop/resultData/'\n",
    "    \n",
    "\n",
    "    # Enumerate all scenarios\n",
    "    faultysensor_scenarios = enumerate_all_faulty_scenarios(path_to_sensor_fault_data)\n",
    "    \n",
    "    # Process all scenarios\n",
    "    results = Parallel(n_jobs=-2)(delayed(process_scenario)(s_id, path_to_sensor_fault_data, exp_results_out_path) for s_id in faultysensor_scenarios[3:10])"
   ]
  },
  {
   "cell_type": "code",
   "execution_count": null,
   "id": "c8832ae5",
   "metadata": {},
   "outputs": [],
   "source": []
  },
  {
   "cell_type": "code",
   "execution_count": null,
   "id": "67a438e6",
   "metadata": {},
   "outputs": [],
   "source": []
  }
 ],
 "metadata": {
  "kernelspec": {
   "display_name": "Python 3 (ipykernel)",
   "language": "python",
   "name": "python3"
  },
  "language_info": {
   "codemirror_mode": {
    "name": "ipython",
    "version": 3
   },
   "file_extension": ".py",
   "mimetype": "text/x-python",
   "name": "python",
   "nbconvert_exporter": "python",
   "pygments_lexer": "ipython3",
   "version": "3.10.4"
  }
 },
 "nbformat": 4,
 "nbformat_minor": 5
}
