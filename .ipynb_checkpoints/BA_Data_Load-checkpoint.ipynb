{
 "cells": [
  {
   "cell_type": "code",
   "execution_count": 1,
   "id": "c20ada5b",
   "metadata": {},
   "outputs": [],
   "source": [
    "import pandas as pd\n",
    "import matplotlib.pyplot as plt\n",
    "import numpy as np\n",
    "from FaultySensorScenario import FaultySensorScenario, enumerate_all_faulty_scenarios"
   ]
  },
  {
   "cell_type": "code",
   "execution_count": 4,
   "id": "1a184bbc",
   "metadata": {},
   "outputs": [],
   "source": [
    "faulty_scenarios = enumerate_all_faulty_scenarios('/Users/florianwicher/Desktop/data/SensorFaultScenarios/')"
   ]
  },
  {
   "cell_type": "code",
   "execution_count": 5,
   "id": "1aaf7d9d",
   "metadata": {},
   "outputs": [
    {
     "name": "stdout",
     "output_type": "stream",
     "text": [
      "FSS:  2019-01-31 00:00:00\n",
      "FSE:  2019-02-28 23:55:00\n",
      "Indices:  Int64Index([ 8640,  8641,  8642,  8643,  8644,  8645,  8646,  8647,  8648,\n",
      "             8649,\n",
      "            ...\n",
      "            16982, 16983, 16984, 16985, 16986, 16987, 16988, 16989, 16990,\n",
      "            16991],\n",
      "           dtype='int64', length=8352)\n"
     ]
    },
    {
     "name": "stderr",
     "output_type": "stream",
     "text": [
      "/Users/florianwicher/Desktop/Bachelorarbeit/Code/FaultySensorScenario.py:60: SettingWithCopyWarning: \n",
      "A value is trying to be set on a copy of a slice from a DataFrame\n",
      "\n",
      "See the caveats in the documentation: https://pandas.pydata.org/pandas-docs/stable/user_guide/indexing.html#returning-a-view-versus-a-copy\n",
      "  df_labels[\"label\"].loc[idx] = 1\n"
     ]
    }
   ],
   "source": [
    "fault_scenario = FaultySensorScenario('/Users/florianwicher/Desktop/data/SensorFaultScenarios/', 15)"
   ]
  },
  {
   "cell_type": "code",
   "execution_count": 6,
   "id": "c6fb81ee",
   "metadata": {},
   "outputs": [
    {
     "name": "stdout",
     "output_type": "stream",
     "text": [
      "Data path:  /Users/florianwicher/Desktop/data/SensorFaultScenarios/\n",
      "Faulty sensor ID:  n54\n",
      "Pressure Nodes:  ['n54', 'n105', 'n114', 'n163', 'n188', 'n229', 'n288', 'n296', 'n332', 'n342', 'n410', 'n415', 'n429', 'n458', 'n469', 'n495', 'n506', 'n516', 'n519', 'n549', 'n613', 'n636', 'n644', 'n679', 'n722', 'n726', 'n740', 'n752', 'n769']\n",
      "Flow Nodes:  ['p227', 'p235']\n"
     ]
    }
   ],
   "source": [
    "print(\"Data path: \", fault_scenario.path_to_data)\n",
    "print(\"Faulty sensor ID: \", fault_scenario.faulty_sensor_id)\n",
    "print(\"Pressure Nodes: \", fault_scenario.pressure_nodes)\n",
    "print(\"Flow Nodes: \", fault_scenario.flow_nodes)"
   ]
  },
  {
   "cell_type": "code",
   "execution_count": 7,
   "id": "126a5131",
   "metadata": {},
   "outputs": [
    {
     "name": "stdout",
     "output_type": "stream",
     "text": [
      "X Data:  [[37.95 50.73 54.22 ... 48.65 58.64 64.22]\n",
      " [37.97 50.74 54.24 ... 48.67 57.18 62.7 ]\n",
      " [37.98 50.75 54.25 ... 48.68 55.72 61.17]\n",
      " ...\n",
      " [ 0.   50.68 54.16 ... 48.61 64.65 70.93]\n",
      " [ 0.   50.69 54.17 ... 48.62 63.48 69.71]\n",
      " [ 0.   50.7  54.19 ... 48.63 62.23 68.42]]\n"
     ]
    }
   ],
   "source": [
    "print(\"X Data: \", fault_scenario.X)"
   ]
  },
  {
   "cell_type": "code",
   "execution_count": 5,
   "id": "d401a962",
   "metadata": {},
   "outputs": [
    {
     "name": "stdout",
     "output_type": "stream",
     "text": [
      "Y Data:  [0 0 0 ... 1 1 1]\n"
     ]
    }
   ],
   "source": [
    "print(\"Y Data: \", fault_scenario.Y)"
   ]
  },
  {
   "cell_type": "code",
   "execution_count": 6,
   "id": "41abd848",
   "metadata": {},
   "outputs": [
    {
     "name": "stdout",
     "output_type": "stream",
     "text": [
      "Fault desc:  ['n54', 'n105', 'n114', 'n163', 'n188', 'n229', 'n288', 'n296', 'n332', 'n342', 'n410', 'n415', 'n429', 'n458', 'n469', 'n495', 'n506', 'n516', 'n519', 'n549', 'n613', 'n636', 'n644', 'n679', 'n722', 'n726', 'n740', 'n752', 'n769', 'p227', 'p235']\n"
     ]
    }
   ],
   "source": [
    "print(\"Fault desc: \", fault_scenario.feat_desc)"
   ]
  },
  {
   "cell_type": "code",
   "execution_count": null,
   "id": "cc1683c6",
   "metadata": {},
   "outputs": [],
   "source": []
  }
 ],
 "metadata": {
  "kernelspec": {
   "display_name": "Python 3 (ipykernel)",
   "language": "python",
   "name": "python3"
  },
  "language_info": {
   "codemirror_mode": {
    "name": "ipython",
    "version": 3
   },
   "file_extension": ".py",
   "mimetype": "text/x-python",
   "name": "python",
   "nbconvert_exporter": "python",
   "pygments_lexer": "ipython3",
   "version": "3.10.4"
  }
 },
 "nbformat": 4,
 "nbformat_minor": 5
}
