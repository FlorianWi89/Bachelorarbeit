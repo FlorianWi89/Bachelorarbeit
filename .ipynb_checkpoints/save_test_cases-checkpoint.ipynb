{
 "cells": [
  {
   "cell_type": "code",
   "execution_count": 3,
   "id": "7b060280",
   "metadata": {},
   "outputs": [],
   "source": [
    "import os\n",
    "from tqdm import tqdm"
   ]
  },
  {
   "cell_type": "code",
   "execution_count": 2,
   "id": "0e7bd863",
   "metadata": {},
   "outputs": [],
   "source": [
    "#code to save all test case excel files as parquet\n",
    "\n",
    "data_path = '/Users/florianwicher/Desktop/data/'\n",
    "\n",
    "test_folders = list(filter(lambda z: z.startswith(\"SensorFaultScenariosTest\"), os.listdir(data_path)))\n",
    "\n"
   ]
  },
  {
   "cell_type": "code",
   "execution_count": null,
   "id": "085ed102",
   "metadata": {},
   "outputs": [],
   "source": [
    "#for every folder load the files and save them as parquet\n",
    "\n",
    "out_path = '/Users/florianwicher/Desktop/resultData'\n",
    "\n",
    "for folder in test_folders:\n",
    "    \n",
    "    files_path = os.path.join(data_path, folder) \n",
    "    \n",
    "    szenarios = list(map(lambda z: int(z.replace(\"scenario\", \"\")), filter(lambda z: z.startswith(\"scenario\"), os.listdir(files_path))))\n",
    "\n",
    "    o_p = os.path.join(out_path, folder)\n",
    "    \n",
    "    for i in tqdm(range(len(szenarios))):\n",
    "        \n",
    "        s_id = szenarios[i]\n",
    "        \n",
    "        szenario_path = os.path.join(files_path, f\"scenario{s_id}\")\n",
    "        \n",
    "        pressures = pd.read_excel(szenario_path, 'Measurements.xlsx', sheet_name=\"Pressures (m)\", engine='openpyxl')\n",
    "        pressures = pressures.drop(\"Timestamp\", axis = 1)\n",
    "            \n",
    "        flows = pd.read_excel(szenario_path, 'Measurements.xlsx', sheet_name=\"Flows (m3_h)\", engine='openpyxl')\n",
    "        flows = flows.drop(\"Timestamp\", axis = 1)\n",
    "            \n",
    "        #vertical stack\n",
    "        data = pd.concat([pressures,flows],axis=1)\n",
    "        \n",
    "        data = data.reset_index(drop=True)\n",
    "        \n",
    "        o_p = os.path.join(o_p, f'scenario_{s_id}_test.parquet.gzip')\n",
    "        \n",
    "        data.to_parquet(o_p,compression='gzip') \n",
    "        "
   ]
  }
 ],
 "metadata": {
  "kernelspec": {
   "display_name": "Python 3 (ipykernel)",
   "language": "python",
   "name": "python3"
  },
  "language_info": {
   "codemirror_mode": {
    "name": "ipython",
    "version": 3
   },
   "file_extension": ".py",
   "mimetype": "text/x-python",
   "name": "python",
   "nbconvert_exporter": "python",
   "pygments_lexer": "ipython3",
   "version": "3.10.4"
  }
 },
 "nbformat": 4,
 "nbformat_minor": 5
}
