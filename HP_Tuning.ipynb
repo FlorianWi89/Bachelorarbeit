{
 "cells": [
  {
   "cell_type": "code",
   "execution_count": 1,
   "id": "5e78b9ca",
   "metadata": {},
   "outputs": [
    {
     "name": "stdout",
     "output_type": "stream",
     "text": [
      "Using TensorFlow backend\n"
     ]
    },
    {
     "name": "stderr",
     "output_type": "stream",
     "text": [
      "/Users/florianwicher/miniforge3/envs/tf_test/lib/python3.10/site-packages/tensorflow_addons/utils/tfa_eol_msg.py:23: UserWarning: \n",
      "\n",
      "TensorFlow Addons (TFA) has ended development and introduction of new features.\n",
      "TFA has entered a minimal maintenance and release mode until a planned end of life in May 2024.\n",
      "Please modify downstream libraries to take dependencies from other repositories in our TensorFlow community (e.g. Keras, Keras-CV, and Keras-NLP). \n",
      "\n",
      "For more information see: https://github.com/tensorflow/addons/issues/2807 \n",
      "\n",
      "  warnings.warn(\n",
      "/var/folders/24/dwryd6_d22d4mw0dwwkwbcjh0000gn/T/ipykernel_2092/2778276001.py:7: DeprecationWarning: `import kerastuner` is deprecated, please use `import keras_tuner`.\n",
      "  from kerastuner.tuners import RandomSearch, BayesianOptimization\n"
     ]
    }
   ],
   "source": [
    "import pandas as pd\n",
    "import numpy as np\n",
    "import tensorflow as tf\n",
    "from tensorflow import keras\n",
    "from tensorflow.keras import layers\n",
    "from tensorflow_addons.layers import ESN\n",
    "from kerastuner.tuners import RandomSearch, BayesianOptimization"
   ]
  },
  {
   "cell_type": "code",
   "execution_count": 2,
   "id": "2a2e007a",
   "metadata": {},
   "outputs": [
    {
     "data": {
      "text/plain": [
       "(1478304, 31)"
      ]
     },
     "execution_count": 2,
     "metadata": {},
     "output_type": "execute_result"
    }
   ],
   "source": [
    "data = pd.read_parquet('train_data_sensor_fault.parquet.gzip').to_numpy().astype(np.float32)\n",
    "\n",
    "\n",
    "data = data[:int(0.2 * len(data))]\n",
    "data.shape"
   ]
  },
  {
   "cell_type": "code",
   "execution_count": 3,
   "id": "5712ab86",
   "metadata": {},
   "outputs": [],
   "source": [
    "#choose  sensor for hp search\n",
    "\n",
    "sensor_id = 15\n",
    "\n",
    "inputs_idx = list(range(data.shape[1]));inputs_idx.remove(sensor_id)\n",
    "\n",
    "\n",
    "x_train, y_train = data[:,inputs_idx], data[:,sensor_id]\n",
    "\n",
    "x = np.array(x_train).reshape(x_train.shape[0], x_train.shape[1], 1)\n",
    "y = np.array(y_train).reshape(y_train.shape[0],1)"
   ]
  },
  {
   "cell_type": "code",
   "execution_count": 4,
   "id": "ee096bd8",
   "metadata": {},
   "outputs": [],
   "source": [
    "dense_activations = ['tanh', 'sigmoid', 'linear', 'relu']\n",
    "esn_activations = ['tanh', 'sigmoid']\n",
    "\n",
    "def create_model(hp):\n",
    "    model = keras.Sequential()\n",
    "    model.add(layers.GRU(31, activation = hp.Choice('ESN_1_activation', esn_activations), return_sequences=True))\n",
    "    model.add(layers.Dropout(hp.Choice('Dropout_rate', [.1,.2,.3,.4,])))\n",
    "    \n",
    "    model.add(layers.GRU(31, activation = hp.Choice('ESN_2_activation', esn_activations), return_sequences=True))\n",
    "    model.add(layers.Dropout(hp.Choice('Dropout_1_rate', [.1,.2,.3,.4,])))\n",
    "    \n",
    "    model.add(layers.GRU(31, activation = hp.Choice('ESN_3_activation', esn_activations), return_sequences=True))\n",
    "    model.add(layers.Dropout(hp.Choice('Dropout_2_rate', [.1,.2,.3,.4,])))\n",
    "    \n",
    "    model.add(layers.GRU(31, activation = hp.Choice('ESN_4_activation', esn_activations), return_sequences=False))\n",
    "    \n",
    "    \n",
    "    model.add(layers.Dense(hp.Int('Dense_1_units', min_value=5, max_value=31, step=2), hp.Choice('Dense_1_activation', dense_activations)))\n",
    "    model.add(layers.Dense(hp.Int('Dense_2_units', min_value=5, max_value=31, step=2), hp.Choice('Dense_2_activation', dense_activations)))\n",
    "    model.add(layers.Dense(hp.Int('Dense_3_units', min_value=5, max_value=31, step=2), hp.Choice('Dense_3_activation', dense_activations)))\n",
    "    model.add(layers.Dense(1))\n",
    "    \n",
    "    model.compile(loss = 'mean_absolute_error',\n",
    "                   optimizer ='adam',\n",
    "                   metrics=['mean_absolute_error'])\n",
    "    return model"
   ]
  },
  {
   "cell_type": "code",
   "execution_count": 5,
   "id": "69820b16",
   "metadata": {},
   "outputs": [
    {
     "name": "stderr",
     "output_type": "stream",
     "text": [
      "2023-10-18 12:55:55.042823: I metal_plugin/src/device/metal_device.cc:1154] Metal device set to: Apple M1 Pro\n",
      "2023-10-18 12:55:55.042840: I metal_plugin/src/device/metal_device.cc:296] systemMemory: 32.00 GB\n",
      "2023-10-18 12:55:55.042845: I metal_plugin/src/device/metal_device.cc:313] maxCacheSize: 10.67 GB\n",
      "2023-10-18 12:55:55.042871: I tensorflow/core/common_runtime/pluggable_device/pluggable_device_factory.cc:303] Could not identify NUMA node of platform GPU ID 0, defaulting to 0. Your kernel may not have been built with NUMA support.\n",
      "2023-10-18 12:55:55.042882: I tensorflow/core/common_runtime/pluggable_device/pluggable_device_factory.cc:269] Created TensorFlow device (/job:localhost/replica:0/task:0/device:GPU:0 with 0 MB memory) -> physical PluggableDevice (device: 0, name: METAL, pci bus id: <undefined>)\n"
     ]
    }
   ],
   "source": [
    "tuner = BayesianOptimization(\n",
    "    create_model,\n",
    "    objective='val_mean_absolute_error',\n",
    "    max_trials=20)"
   ]
  },
  {
   "cell_type": "code",
   "execution_count": null,
   "id": "4a85eb7d",
   "metadata": {},
   "outputs": [
    {
     "name": "stdout",
     "output_type": "stream",
     "text": [
      "Trial 2 Complete [00h 13m 50s]\n",
      "val_mean_absolute_error: 0.10324244946241379\n",
      "\n",
      "Best val_mean_absolute_error So Far: 0.10324244946241379\n",
      "Total elapsed time: 00h 29m 09s\n",
      "\n",
      "Search: Running Trial #3\n",
      "\n",
      "Value             |Best Value So Far |Hyperparameter\n",
      "sigmoid           |sigmoid           |ESN_1_activation\n",
      "0.3               |0.3               |Dropout_rate\n",
      "tanh              |tanh              |ESN_2_activation\n",
      "0.3               |0.2               |Dropout_1_rate\n",
      "tanh              |tanh              |ESN_3_activation\n",
      "0.2               |0.2               |Dropout_2_rate\n",
      "tanh              |tanh              |ESN_4_activation\n",
      "27                |21                |Dense_1_units\n",
      "linear            |sigmoid           |Dense_1_activation\n",
      "23                |11                |Dense_2_units\n",
      "tanh              |tanh              |Dense_2_activation\n",
      "27                |9                 |Dense_3_units\n",
      "linear            |tanh              |Dense_3_activation\n",
      "\n",
      "WARNING:tensorflow:Layer gru will not use cuDNN kernels since it doesn't meet the criteria. It will use a generic GPU kernel as fallback when running on GPU.\n",
      "Epoch 1/2\n",
      "  219/18479 [..............................] - ETA: 6:27 - loss: 20.9247 - mean_absolute_error: 20.9247"
     ]
    }
   ],
   "source": [
    "with tf.device('/cpu:0'):\n",
    "    tuner.search(x, y, batch_size=64, epochs=2, validation_split=0.2)\n"
   ]
  },
  {
   "cell_type": "code",
   "execution_count": null,
   "id": "d9f84a48",
   "metadata": {},
   "outputs": [],
   "source": [
    "best_hyper_parameters = tuner.get_best_hyperparameters()[0]\n",
    "best_hyper_parameters.values"
   ]
  },
  {
   "cell_type": "code",
   "execution_count": 1,
   "id": "aeea72a2",
   "metadata": {},
   "outputs": [],
   "source": [
    "import numpy as np"
   ]
  },
  {
   "cell_type": "code",
   "execution_count": 6,
   "id": "7c178d43",
   "metadata": {},
   "outputs": [
    {
     "data": {
      "text/plain": [
       "array([2., 2., 1.])"
      ]
     },
     "execution_count": 6,
     "metadata": {},
     "output_type": "execute_result"
    }
   ],
   "source": [
    "a = np.array([1., 3., 8,])\n",
    "\n",
    "b = np.array([3., 5., 9,])\n",
    "\n",
    "c = np.abs(np.subtract(a,b))\n",
    "c"
   ]
  },
  {
   "cell_type": "code",
   "execution_count": null,
   "id": "9c2750be",
   "metadata": {},
   "outputs": [],
   "source": []
  }
 ],
 "metadata": {
  "kernelspec": {
   "display_name": "Python 3 (ipykernel)",
   "language": "python",
   "name": "python3"
  },
  "language_info": {
   "codemirror_mode": {
    "name": "ipython",
    "version": 3
   },
   "file_extension": ".py",
   "mimetype": "text/x-python",
   "name": "python",
   "nbconvert_exporter": "python",
   "pygments_lexer": "ipython3",
   "version": "3.10.4"
  }
 },
 "nbformat": 4,
 "nbformat_minor": 5
}
